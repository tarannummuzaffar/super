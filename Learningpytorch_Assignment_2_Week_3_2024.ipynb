{
  "nbformat": 4,
  "nbformat_minor": 0,
  "metadata": {
    "colab": {
      "provenance": [],
      "include_colab_link": true
    },
    "kernelspec": {
      "name": "python3",
      "display_name": "Python 3"
    },
    "language_info": {
      "name": "python"
    }
  },
  "cells": [
    {
      "cell_type": "markdown",
      "metadata": {
        "id": "view-in-github",
        "colab_type": "text"
      },
      "source": [
        "<a href=\"https://colab.research.google.com/github/tarannummuzaffar/super/blob/main/Learningpytorch_Assignment_2_Week_3_2024.ipynb\" target=\"_parent\"><img src=\"https://colab.research.google.com/assets/colab-badge.svg\" alt=\"Open In Colab\"/></a>"
      ]
    },
    {
      "cell_type": "markdown",
      "source": [
        "#### **Welcome to Assignment 3 on Deep Learning for Computer Vision.**\n",
        "This assignment is based on the content you learned in Week-3.\n",
        "\n",
        "#### **Instructions**\n",
        "1. Use Python 3.x to run this notebook\n",
        "2. Write your code only in between the lines 'YOUR CODE STARTS HERE' and 'YOUR CODE ENDS HERE'. You should not change anything else in the code cells, if you do, the answers you are supposed to get at the end of this assignment might be wrong.\n",
        "3. Read documentation of each function carefully.\n",
        "4. All the Best!"
      ],
      "metadata": {
        "id": "NmJM6wJJBA0-"
      }
    },
    {
      "cell_type": "markdown",
      "source": [
        "# Pytorch operations"
      ],
      "metadata": {
        "id": "Hoc9we-EBPNz"
      }
    },
    {
      "cell_type": "markdown",
      "source": [
        "You will perform basic elementwise operations between two matrices\n",
        "\n",
        "Step1: rearrange the give input x into a tensor of shape (10,5,3) and store it in variable x_resize \\\\\n",
        "Step2: Generate a gaussian random tensor (mean =0, variance=1) of shape (5,3) and store it in variable y1 \\\\\n",
        "Step3:  Generate a uniform random tensor (interval [-10,10)) of shape (5,3) and store it in variable y2 \\\\\n",
        "Step4: Perform elementwise multiplication between x_resize and y1, store it in variable mul_output1 \\\\\n",
        "Step5: Find the max element along the last dimension of mul_output1 and store its value in final_output1 \\\\\n",
        "Step6: Repeat Step4 and Step5 for x_resize and y2 and store the corresponding values in the variables, mul_output2 and final_output2."
      ],
      "metadata": {
        "id": "JWfSxU7fBQJa"
      }
    },
    {
      "cell_type": "code",
      "source": [
        "import torch\n",
        "#DO NOT CHANGE THE SEED\n",
        "torch.manual_seed(2)\n",
        "\n",
        "x = torch.randint(low=0,high=256,size=(1,150))\n",
        "### YOUR CODE STARTS HERE ###\n",
        "\n",
        "x_resize = ___\n",
        "\n",
        "# Use torch.randn()\n",
        "y1 = ___\n",
        "\n",
        "# Use torch.rand()\n",
        "y2 = ___\n",
        "\n",
        "mul_output1 = ___\n",
        "\n",
        "final_output1,_ = ___\n",
        "\n",
        "mul_output2 = ___\n",
        "\n",
        "final_output2,_ = ___\n",
        "\n",
        "### YOUR CODE ENDS HERE ###\n",
        "\n",
        "print(torch.mean(final_output1+final_output2))"
      ],
      "metadata": {
        "id": "V1T3yhVcBAQE"
      },
      "execution_count": null,
      "outputs": []
    },
    {
      "cell_type": "markdown",
      "source": [
        "### Question 1. What is mean of the sum of final_output1 and final_output2? (Select the closest value)\n",
        "\n",
        "a) 875\n",
        "\n",
        "b) 880\n",
        "\n",
        "c) 883\n",
        "\n",
        "d) 870\n"
      ],
      "metadata": {
        "id": "S3J0KYReBhS3"
      }
    },
    {
      "cell_type": "markdown",
      "source": [
        "# Custom loss function and its Gradients"
      ],
      "metadata": {
        "id": "LoZ1CgxhGqXu"
      }
    },
    {
      "cell_type": "markdown",
      "source": [
        "In this we will implement a custom loss function and calculate the gradient of this loss function w.r.t two input tensors.\n",
        "\n",
        "The loss function takes two inputs, y_true (given) and y_pred. Follow the below step to generate y_pred.\n",
        "\n",
        "1) Calculate the matrix-vector multiplication between 'M' and 'v' and store it in the variable \"y_pred\".\n"
      ],
      "metadata": {
        "id": "U2E-g_zVFfxP"
      }
    },
    {
      "cell_type": "code",
      "source": [
        "import torch\n",
        "import torch.nn as nn\n",
        "\n",
        "\n",
        "#DO NOT CHANGE THE SEED\n",
        "torch.manual_seed(0)\n",
        "\n",
        "y_true = torch.tensor([0.3, 0.7, 0.6])\n",
        "\n",
        "m, n = 3, 2\n",
        "M = torch.randn(m, n, requires_grad=True)\n",
        "v = torch.randn(n, requires_grad=True)\n",
        "\n",
        "### YOUR CODE STARTS HERE ###\n",
        "y_pred = ___\n",
        "### YOUR CODE ENDS HERE ###"
      ],
      "metadata": {
        "id": "fBABuqJbQpa6"
      },
      "execution_count": null,
      "outputs": []
    },
    {
      "cell_type": "markdown",
      "source": [
        "Next, implement a custom loss function in PyTorch that computes the mean squared error (MSE) between two tensors (y_true, y_pred), but only for elements where the target tensor y_true is greater than 0.5. Save the calculated MSE loss in a variable named \"loss\".\n",
        "\n",
        "*(Hint: First create a mask on y_true and then multiply the mask with the loss)*"
      ],
      "metadata": {
        "id": "Ptu_2jENQ0E2"
      }
    },
    {
      "cell_type": "code",
      "source": [
        "import torch\n",
        "import torch.nn as nn\n",
        "\n",
        "\n",
        "#DO NOT CHANGE THE SEED\n",
        "torch.manual_seed(0)\n",
        "\n",
        "class CustomMSELoss(nn.Module):\n",
        "    def __init__(self):\n",
        "        super(CustomMSELoss, self).__init__()\n",
        "\n",
        "    def forward(self, y_pred, y_true):\n",
        "        ### YOUR CODE STARTS HERE ###\n",
        "        mask = ___\n",
        "        squared_diff = ___\n",
        "        masked_squared_diff = ___\n",
        "\n",
        "        # For calculating the mean, take the sum of masked_squared_diff and divide by 3.\n",
        "        loss = ___\n",
        "        ### YOUR CODE ENDS HERE ###\n",
        "        return loss\n",
        "\n",
        "### DO NOT CHANGE ###\n",
        "loss_fn = CustomMSELoss()\n",
        "loss = loss_fn(y_pred, y_true)\n",
        "print(\"Loss: \", loss)"
      ],
      "metadata": {
        "id": "JXQ-8VUAFbg3"
      },
      "execution_count": null,
      "outputs": []
    },
    {
      "cell_type": "markdown",
      "source": [
        "Next, calculate the gradient of the loss w.r.t tensors M and v.\n",
        "\n",
        "Store the gradient w.r.t M in a variable grad_M\n",
        "\n",
        "Store the gradient w.r.t v in a variable grad_v\n",
        "\n",
        "(Hint: Look into the autograd library of Pytorch. https://pytorch.org/docs/stable/generated/torch.autograd.grad.html)\n"
      ],
      "metadata": {
        "id": "yobH-28VSj6m"
      }
    },
    {
      "cell_type": "code",
      "source": [
        "### DO NOT CHANGE ###\n",
        "# Compute gradients using autograd\n",
        "loss.backward()  # This computes gradients for all tensors that have requires_grad=True\n",
        "\n",
        "### YOUR CODE STARTS HERE ###\n",
        "grad_M = ___\n",
        "grad_v = ___\n",
        "### YOUR CODE ENDS HERE ###\n",
        "\n",
        "print(\"Sum of Gradient Means: \", grad_M.mean()+grad_v.mean())"
      ],
      "metadata": {
        "id": "mJ32T1UKGIG1"
      },
      "execution_count": null,
      "outputs": []
    },
    {
      "cell_type": "markdown",
      "source": [
        "### Question 2: What is the loss value calculated using the Custom Loss function? (Select the closest value)\n",
        "\n",
        "a) 1\n",
        "\n",
        "b) 2.5\n",
        "\n",
        "c)1.5\n",
        "\n",
        "d) 2\n",
        "\n"
      ],
      "metadata": {
        "id": "fvfiNAByIeXk"
      }
    },
    {
      "cell_type": "markdown",
      "source": [
        "### Question 3: What is sum of the means of the gradients, grad_M and grad_v? (Select the closest value)\n",
        "\n",
        "a) 2\n",
        "\n",
        "b) 1.7\n",
        "\n",
        "c) 2.5\n",
        "\n",
        "d) 3\n",
        "\n"
      ],
      "metadata": {
        "id": "aqCl_hozIznS"
      }
    },
    {
      "cell_type": "markdown",
      "source": [
        "# Multi Layer Perceptron"
      ],
      "metadata": {
        "id": "4P4t0PvQOpVH"
      }
    },
    {
      "cell_type": "markdown",
      "source": [
        "In this, we will implement a simple multilayer feedforward neural network using PyTorch with the following specifications:\n",
        "\n",
        "Input dimension: 10\n",
        "\n",
        "Hidden layer 1 dimension: 20\n",
        "\n",
        "Hidden layer 2 dimension:  50\n",
        "\n",
        "Output dimension: 5\n",
        "\n",
        "Activation function: ReLU for the hidden layer\n",
        "\n",
        "Your function should take a tensor x of shape (batch_size, 10) as input and return the output of the neural network."
      ],
      "metadata": {
        "id": "mMRqbxxrFUkJ"
      }
    },
    {
      "cell_type": "code",
      "source": [
        "import torch\n",
        "import torch.nn as nn\n",
        "\n",
        "#DO NOT CHANGE THE SEED\n",
        "torch.manual_seed(2)\n",
        "\n",
        "# Define the multi-layer neural network class\n",
        "class MultiLayerNN(nn.Module):\n",
        "    def __init__(self):\n",
        "        super(MultiLayerNN, self).__init__()\n",
        "\n",
        "        ### YOUR CODE STARTS HERE ###\n",
        "        self.fc1 = ___ # Input layer to first hidden layer\n",
        "        self.fc2 = ___  # First hidden layer to second hidden layer\n",
        "        self.fc3 = ___   # Second hidden layer to output layer\n",
        "        ### YOUR CODE ENDS HERE ###\n",
        "\n",
        "    def forward(self, x):\n",
        "       ### YOUR CODE STARTS HERE ###\n",
        "        x = ___\n",
        "        x = ___\n",
        "\n",
        "        ### YOUR CODE ENDS HERE ###\n",
        "        x = self.fc3(x)\n",
        "        return x\n",
        "\n",
        "# DO NOT CHANGE:\n",
        "model = MultiLayerNN()\n",
        "input_tensor = torch.randn(32, 10)\n",
        "output = model(input_tensor)\n",
        "print(\"Mean of the output: \",output.mean()*1000)"
      ],
      "metadata": {
        "id": "Wobrcv22KoFZ"
      },
      "execution_count": null,
      "outputs": []
    },
    {
      "cell_type": "markdown",
      "source": [
        "### Question 4: What is mean of the output? (Select the closest value)\n",
        "\n",
        "a) 1.6\n",
        "\n",
        "b) 2.2\n",
        "\n",
        "c) 3\n",
        "\n",
        "d) 1.8\n",
        "\n"
      ],
      "metadata": {
        "id": "J2vd3u7qO-jk"
      }
    },
    {
      "cell_type": "markdown",
      "source": [
        "#Training of Multilayer Perceptron on a random dataset"
      ],
      "metadata": {
        "id": "7kfMPP29PjM4"
      }
    },
    {
      "cell_type": "markdown",
      "source": [
        "In this we will use the Mulitlayer Perceptron defined in question 4 and train it on a random dataset."
      ],
      "metadata": {
        "id": "gIuWBG8HS9rh"
      }
    },
    {
      "cell_type": "code",
      "source": [
        "# Please DO NOT modify this cell.\n",
        "\n",
        "import os\n",
        "import os.path as osp\n",
        "import random\n",
        "\n",
        "import numpy as np\n",
        "import torch\n",
        "\n",
        "def set_seed(seed: int):\n",
        "\n",
        "    random.seed(seed)\n",
        "    np.random.seed(seed)\n",
        "    torch.manual_seed(seed)\n",
        "    if torch.cuda.is_available():\n",
        "        torch.cuda.manual_seed(seed)\n",
        "        torch.cuda.manual_seed_all(seed)\n",
        "        torch.backends.cudnn.deterministic = True\n",
        "        torch.backends.cudnn.benchmark = False\n",
        "    os.environ[\"PYTHONHASHSEED\"] = str(seed)"
      ],
      "metadata": {
        "id": "YQF7MZt0P1a8"
      },
      "execution_count": null,
      "outputs": []
    },
    {
      "cell_type": "code",
      "source": [
        "# Please DO NOT modify this cell.\n",
        "\n",
        "num_features = 10\n",
        "classes = [0, 1, 2, 3, 4]\n",
        "num_classes = len(classes)\n",
        "\n",
        "num_samples = 100\n",
        "num_train = 70\n",
        "num_test = num_samples - num_train"
      ],
      "metadata": {
        "id": "wjcnZEPBP4We"
      },
      "execution_count": null,
      "outputs": []
    },
    {
      "cell_type": "code",
      "source": [
        "# Please DO NOT modify this cell.\n",
        "# We are creating a random feature set and a random label set.\n",
        "# The features and labels have no semantic meaning and might as well be garbage.\n",
        "\n",
        "set_seed(2022)\n",
        "\n",
        "features = np.random.random_sample((num_samples, num_features))\n",
        "labels = np.random.choice(classes, size = num_samples)\n",
        "\n",
        "# Train-test split\n",
        "x_train = features[:num_train]\n",
        "x_test = features[num_train:num_samples]\n",
        "\n",
        "x_train = torch.Tensor(x_train)\n",
        "x_test = torch.Tensor(x_test)\n",
        "\n",
        "y_train = labels[:num_train]\n",
        "y_test = labels[num_train:num_samples]\n",
        "\n",
        "y_train = torch.LongTensor(y_train)\n",
        "y_test = torch.LongTensor(y_test)"
      ],
      "metadata": {
        "id": "nD5QxcLZP7Sw"
      },
      "execution_count": null,
      "outputs": []
    },
    {
      "cell_type": "code",
      "source": [
        "# Please DO NOT modify this cell.\n",
        "\n",
        "print(f\"Train features: {x_train.shape}\")\n",
        "print(f\"Test features: {x_test.shape}\")\n",
        "\n",
        "print(f\"Train labels: {y_train.shape}\")\n",
        "print(f\"Train labels: {y_test.shape}\")\n"
      ],
      "metadata": {
        "id": "fLjE4V28P9xf"
      },
      "execution_count": null,
      "outputs": []
    },
    {
      "cell_type": "markdown",
      "source": [
        "### Create train and test TensorDatasets from the respective numpy arrays"
      ],
      "metadata": {
        "id": "YW7PbFdoTMLy"
      }
    },
    {
      "cell_type": "code",
      "source": [
        "# Create train and test TensorDatasets from the respective numpy arrays\n",
        "\n",
        "#### YOUR CODE STARTS HERE ####\n",
        "\n",
        "train_dataset = ___\n",
        "test_dataset = ___\n",
        "\n",
        "#### YOUR CODE ENDS HERE ####"
      ],
      "metadata": {
        "id": "Ch3_WtqPQAaX"
      },
      "execution_count": null,
      "outputs": []
    },
    {
      "cell_type": "markdown",
      "source": [
        "### Create dataloaders using the datasets created in the previous cell."
      ],
      "metadata": {
        "id": "I_nn_5UFTSPC"
      }
    },
    {
      "cell_type": "code",
      "source": [
        "# Create dataloaders using the datasets created in the previous cell.\n",
        "# Use a batch size of 64\n",
        "\n",
        "#### YOUR CODE STARTS HERE ####\n",
        "\n",
        "batch_size = ___\n",
        "\n",
        "train_loader = ___\n",
        "test_loader = ___\n",
        "\n",
        "#### YOUR CODE ENDS HERE ####"
      ],
      "metadata": {
        "id": "D3BgZXDjQDMA"
      },
      "execution_count": null,
      "outputs": []
    },
    {
      "cell_type": "markdown",
      "source": [
        "### Training function"
      ],
      "metadata": {
        "id": "LNRJDdcwQHxN"
      }
    },
    {
      "cell_type": "code",
      "source": [
        "def train(model, device, train_loader, optimizer, criterion, epoch):\n",
        "    model.train()\n",
        "    epoch_loss = 0\n",
        "    for batch_idx, (data, target) in enumerate(train_loader):\n",
        "\n",
        "        #### YOUR CODE STARTS HERE ####\n",
        "\n",
        "        # send the data, target to the device\n",
        "        data = ___\n",
        "        target = ___\n",
        "\n",
        "        # flush out the gradients stored in optimizer\n",
        "        ___\n",
        "\n",
        "        # pass the batch to the model and assign the output to variable named y_pred\n",
        "        output = ___\n",
        "\n",
        "        # calculate the loss (use CrossEntropyLoss in pytorch)\n",
        "        loss = ___\n",
        "\n",
        "        # do a backward pass\n",
        "        ___\n",
        "\n",
        "        # update the weights\n",
        "        ___\n",
        "\n",
        "        #### YOUR CODE ENDS HERE ####\n",
        "\n",
        "        # Store loss\n",
        "        epoch_loss += loss.item() * data.shape[0]\n",
        "\n",
        "    print(f\"Train Average Loss: {epoch_loss/len(train_loader.dataset):.2f}\")"
      ],
      "metadata": {
        "id": "JQ6_PT9WQKL2"
      },
      "execution_count": null,
      "outputs": []
    },
    {
      "cell_type": "markdown",
      "source": [
        "### Test function"
      ],
      "metadata": {
        "id": "YuDmvAKNQNEw"
      }
    },
    {
      "cell_type": "code",
      "source": [
        "def test(model, device, test_loader, criterion, mode):\n",
        "    model.eval()\n",
        "    test_loss = 0\n",
        "    correct = 0\n",
        "\n",
        "    with torch.no_grad():\n",
        "        for data, target in test_loader:\n",
        "            #### YOUR CODE STARTS HERE ####\n",
        "\n",
        "            # send data, target to the device\n",
        "            data = ___\n",
        "            target = ___\n",
        "\n",
        "            # pass the image to the model and assign the output to variable named output\n",
        "            output = ___\n",
        "            #### YOUR CODE ENDS HERE ####\n",
        "\n",
        "            test_loss += criterion(output, target).item() * data.shape[0]  # sum up batch loss\n",
        "            pred = output.argmax(dim = 1, keepdim = True)  # get the index of the max log-probability\n",
        "            correct += pred.eq(target.view_as(pred)).sum().item()\n",
        "\n",
        "    test_loss /= len(test_loader.dataset)\n",
        "    test_acc = 100. * correct / len(test_loader.dataset)\n",
        "\n",
        "    print(f\"{mode} Average loss: {test_loss:.2f}\")\n",
        "    print(f\"{mode} Accuracy: {correct}/{len(test_loader.dataset)} ({test_acc:.2f}%)\")"
      ],
      "metadata": {
        "id": "ZBY3D0IsQOZs"
      },
      "execution_count": null,
      "outputs": []
    },
    {
      "cell_type": "code",
      "source": [
        "set_seed(2022)\n",
        "\n",
        "num_epochs = 300\n",
        "\n",
        "#### YOUR CODE STARTS HERE ####\n",
        "\n",
        "# check availability of GPU and set the device accordingly\n",
        "device = ___\n",
        "\n",
        "# Initialize MLP model\n",
        "model = ___\n",
        "\n",
        "# Define Adam Optimizer with a learning rate of 0.001\n",
        "optimizer = ___\n",
        "\n",
        "# Define CrossEntropyLoss as the criterion\n",
        "criterion = ___\n",
        "\n",
        "#### YOUR CODE ENDS HERE ####\n",
        "\n",
        "for epoch in range(1, num_epochs+1):\n",
        "    print(f\"\\nEpoch: {epoch}/{num_epochs}\")\n",
        "\n",
        "    train(model, device, train_loader, optimizer, criterion, epoch)\n",
        "    test(model, device, test_loader, criterion, mode = \"Test\")"
      ],
      "metadata": {
        "id": "aZ2P3nG2QRme"
      },
      "execution_count": null,
      "outputs": []
    },
    {
      "cell_type": "code",
      "execution_count": null,
      "metadata": {
        "id": "GVQZOy5M8g3O"
      },
      "outputs": [],
      "source": [
        "test(model, device, train_loader, criterion, mode = \"Train\")"
      ]
    },
    {
      "cell_type": "markdown",
      "metadata": {
        "id": "maYYAzU28g3N"
      },
      "source": [
        "### Question 5\n",
        "\n",
        "Report the final train accuracy (If you are not getting the exact number shown in\n",
        "options, please report the closest number).\n",
        "\n",
        "a. 100%\n",
        "\n",
        "b. 53%\n",
        "\n",
        "c. 61%\n",
        "\n",
        "d. 79%\n",
        "\n"
      ]
    },
    {
      "cell_type": "code",
      "execution_count": null,
      "metadata": {
        "id": "OXEEd8YP8g3S"
      },
      "outputs": [],
      "source": [
        "test(model, device, test_loader, criterion, mode = \"Test\")"
      ]
    },
    {
      "cell_type": "markdown",
      "metadata": {
        "id": "TV3DSN3v0NBN"
      },
      "source": [
        "### Question 6\n",
        "\n",
        "Report the final test accuracy (If you are not getting the exact number shown in\n",
        "options, please report the closest number).\n",
        "\n",
        "a. 30%\n",
        "\n",
        "b. 40%\n",
        "\n",
        "c. 15%\n",
        "\n",
        "d. 25%\n",
        "\n"
      ]
    }
  ]
}