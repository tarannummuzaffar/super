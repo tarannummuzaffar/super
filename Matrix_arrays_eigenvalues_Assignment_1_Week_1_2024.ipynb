{
  "nbformat": 4,
  "nbformat_minor": 0,
  "metadata": {
    "colab": {
      "provenance": [],
      "include_colab_link": true
    },
    "kernelspec": {
      "name": "python3",
      "display_name": "Python 3"
    },
    "language_info": {
      "name": "python"
    }
  },
  "cells": [
    {
      "cell_type": "markdown",
      "metadata": {
        "id": "view-in-github",
        "colab_type": "text"
      },
      "source": [
        "<a href=\"https://colab.research.google.com/github/tarannummuzaffar/super/blob/main/Matrix_arrays_eigenvalues_Assignment_1_Week_1_2024.ipynb\" target=\"_parent\"><img src=\"https://colab.research.google.com/assets/colab-badge.svg\" alt=\"Open In Colab\"/></a>"
      ]
    },
    {
      "cell_type": "markdown",
      "source": [
        "#### **Welcome to Assignment 1 on Deep Learning for Computer Vision.**\n",
        "\n",
        "#### **Instructions**\n",
        "1. Use Python 3.x to run this notebook\n",
        "3. Write your code only in between the lines 'YOUR CODE STARTS HERE' and 'YOUR CODE ENDS HERE'.\n",
        "you sould not change anything else code cells, if you do, the answers you are supposed to get at the end of this assignment might be wrong.\n",
        "4. Read documentation of each function carefully."
      ],
      "metadata": {
        "id": "Cn7D-8jhVXb8"
      }
    },
    {
      "cell_type": "code",
      "source": [
        "import numpy as np\n",
        "import matplotlib.pyplot as plt\n",
        "import skimage\n",
        "from skimage import io"
      ],
      "metadata": {
        "id": "5cBkBgHUVcKC"
      },
      "execution_count": null,
      "outputs": []
    },
    {
      "cell_type": "markdown",
      "source": [
        "### Question 1\n",
        "\n",
        "---\n",
        "\n",
        "Given two NumPy arrays, perform the following:\n",
        "\n",
        "* Compute the element-wise product of the two arrays.\n",
        "* Calculate the mean of each row in the resulting product array.\n",
        "* Determine the standard deviation of the row-wise means."
      ],
      "metadata": {
        "id": "hIRJyQRrVqFM"
      }
    },
    {
      "cell_type": "markdown",
      "source": [
        "Create two numpy arrays of different dimensions  "
      ],
      "metadata": {
        "id": "wBdn4vbxWV7J"
      }
    },
    {
      "cell_type": "code",
      "execution_count": null,
      "metadata": {
        "id": "5Nyt8esGbY4I"
      },
      "outputs": [],
      "source": [
        "arr1 = np.array([[1, 2, 3, 4],\n",
        "                [5, 6, 7, 8],\n",
        "                [9, 10, 11, 12]])\n",
        "\n",
        "arr2 = np.array([0.5, 1.5, 2, 1])"
      ]
    },
    {
      "cell_type": "markdown",
      "source": [
        "Print the shapes of both the numpy arrays"
      ],
      "metadata": {
        "id": "KJpWp0JwXSRq"
      }
    },
    {
      "cell_type": "code",
      "source": [
        "print(arr1.shape)\n",
        "print(arr2.shape)"
      ],
      "metadata": {
        "id": "GfEsqcqJXKak"
      },
      "execution_count": null,
      "outputs": []
    },
    {
      "cell_type": "markdown",
      "source": [
        "Perform element-wise multiplication , compute row-wise means and then compute the standard deviation of those means"
      ],
      "metadata": {
        "id": "9FFkJ-vXXezW"
      }
    },
    {
      "cell_type": "code",
      "source": [
        "# YOUR CODE STARTS HERE\n",
        "\n",
        "scaled_arr = ____ # Broadcasting for element-wise multiplication between arr1 and arr2\n",
        "row_means = ____  # Mean across rows of scaled_arr\n",
        "std_dev_of_means = ____  # Standard deviation of row_means\n",
        "print(scaled_arr.shape)\n",
        "\n",
        "# YOUR CODE ENDS HERE"
      ],
      "metadata": {
        "id": "rYOGdw3NW_Zd"
      },
      "execution_count": null,
      "outputs": []
    },
    {
      "cell_type": "markdown",
      "source": [
        "Print the row-wise means"
      ],
      "metadata": {
        "id": "aG1sCoacX2it"
      }
    },
    {
      "cell_type": "code",
      "source": [
        "print(\"Row-wise means:\", row_means)"
      ],
      "metadata": {
        "id": "hWiS4GgXXELl"
      },
      "execution_count": null,
      "outputs": []
    },
    {
      "cell_type": "markdown",
      "source": [
        "Print the standard deviation of the means"
      ],
      "metadata": {
        "id": "vY9GfzZZX_If"
      }
    },
    {
      "cell_type": "code",
      "source": [
        "print(\"Standard deviation of means: %.2f\" % std_dev_of_means)"
      ],
      "metadata": {
        "id": "SfQ3P5BUX_kw"
      },
      "execution_count": null,
      "outputs": []
    },
    {
      "cell_type": "markdown",
      "source": [
        "Q1. Which of the following options correctly provides the standard deviation of row-wise means and the row-wise means themselves?\n",
        "\n",
        "A. 1.23 , [3.875 , 8.375 , 13.575]\n",
        "\n",
        "B. 3.45 , [3.375 , 8.875 , 13.375]\n",
        "\n",
        "C. 4.08 , [3.375 , 8.375 , 13.375]\n",
        "\n",
        "D. 4.24 , [3.875 , 8.875 , 13.875]\n",
        "\n",
        "\n"
      ],
      "metadata": {
        "id": "4am-oMN1uy2Q"
      }
    },
    {
      "cell_type": "code",
      "source": [],
      "metadata": {
        "id": "4jkU-sW2kNnD"
      },
      "execution_count": null,
      "outputs": []
    },
    {
      "cell_type": "markdown",
      "source": [
        "### Question 2\n",
        "\n",
        "---\n",
        "Given a matrix A , calculate the eigenvectors and eigenvalues using Numpy Library and then find out the largest eigenvalue and corresponding eigenvector"
      ],
      "metadata": {
        "id": "PWFnBBhpYHhD"
      }
    },
    {
      "cell_type": "markdown",
      "source": [
        "Create a square matrix A using Numpy , this will be used for calculations"
      ],
      "metadata": {
        "id": "kGDvUiw8ajZc"
      }
    },
    {
      "cell_type": "code",
      "source": [
        "A = np.array([[2, 1, -1],\n",
        "              [1, 3, 1],\n",
        "              [-1, 1, 4]])"
      ],
      "metadata": {
        "id": "H18S-b_3adFd"
      },
      "execution_count": null,
      "outputs": []
    },
    {
      "cell_type": "markdown",
      "source": [
        "Print the shape of the matrix"
      ],
      "metadata": {
        "id": "cEk2q_2za1RR"
      }
    },
    {
      "cell_type": "code",
      "source": [
        "print(A.shape)"
      ],
      "metadata": {
        "id": "AOSFeto3az4M"
      },
      "execution_count": null,
      "outputs": []
    },
    {
      "cell_type": "markdown",
      "source": [
        "Calculate eigenvalues and eigenvalues of the matrix A and extract the largest eigenvalue and corresponding eigenvalue"
      ],
      "metadata": {
        "id": "nmAXq0PMbMkc"
      }
    },
    {
      "cell_type": "code",
      "source": [
        "# YOUR CODE STARTS HERE\n",
        "\n",
        "eigenvalues, eigenvectors = ____ # Calculate eigenvalues and eigenvectors of A\n",
        "max_eigenvalue_index = ____  # Find index of largest eigenvalue\n",
        "largest_eigenvalue = ____ # Get largest eigenvalue and corresponding eigenvector\n",
        "largest_eigenvector = ____ # Extract column\n",
        "\n",
        "# YOUR CODE ENDS HERE"
      ],
      "metadata": {
        "id": "Nh9vUqTVerM_"
      },
      "execution_count": null,
      "outputs": []
    },
    {
      "cell_type": "markdown",
      "source": [
        "Print the eigenvalues"
      ],
      "metadata": {
        "id": "haAy_Z_gb6rU"
      }
    },
    {
      "cell_type": "code",
      "source": [
        "print(\"Eigenvalues\" , eigenvalues)"
      ],
      "metadata": {
        "id": "_7dHobXucE5K"
      },
      "execution_count": null,
      "outputs": []
    },
    {
      "cell_type": "markdown",
      "source": [
        "Print the eigenvectors"
      ],
      "metadata": {
        "id": "9xGcUAcUb6ph"
      }
    },
    {
      "cell_type": "code",
      "source": [
        "print(\"Eigenvectors\" , eigenvectors)"
      ],
      "metadata": {
        "id": "O7lAcsF5cHkA"
      },
      "execution_count": null,
      "outputs": []
    },
    {
      "cell_type": "markdown",
      "source": [
        "Print the largest eigenvalue"
      ],
      "metadata": {
        "id": "LTt5QS0xcIDc"
      }
    },
    {
      "cell_type": "code",
      "source": [
        "print(\"Largest Eigenvalue:\", largest_eigenvalue)"
      ],
      "metadata": {
        "id": "WGqtAGmBcKa_"
      },
      "execution_count": null,
      "outputs": []
    },
    {
      "cell_type": "markdown",
      "source": [
        "Print the largest eigenvector"
      ],
      "metadata": {
        "id": "UPEh3x-8cKtA"
      }
    },
    {
      "cell_type": "code",
      "source": [
        "print(\"Corresponding Eigenvector:\", largest_eigenvector)"
      ],
      "metadata": {
        "id": "fVcW0I9obBtT"
      },
      "execution_count": null,
      "outputs": []
    },
    {
      "cell_type": "markdown",
      "source": [
        "\n",
        "Q2. Which of the following pairs represents the largest eigenvalue and its corresponding eigenvector?\n",
        "\n",
        "A. Eigenvalue: 0.78568026, Eigenvector:\n",
        "$$\n",
        "\\begin{bmatrix}\n",
        "-0.75578934 \\\\\n",
        "0.52065737 \\\\\n",
        "-0.39711255\n",
        "\\end{bmatrix}\n",
        "$$\n",
        "\n",
        "B. Eigenvalue: 3.53918887, Eigenvector:\n",
        "$$\n",
        "\\begin{bmatrix}\n",
        "0.63178128 \\\\\n",
        "0.73923874 \\\\\n",
        "-0.23319198\n",
        "\\end{bmatrix}\n",
        "$$\n",
        "\n",
        "C. Eigenvalue: 4.67513087, Eigenvector:\n",
        "$$\n",
        "\\begin{bmatrix}\n",
        "-0.17214786 \\\\\n",
        "0.42713229 \\\\\n",
        "0.88765034\n",
        "\\end{bmatrix}\n",
        "$$\n",
        "\n",
        "D. Eigenvalue: 4.67513087, Eigenvector:\n",
        "$$\n",
        "\\begin{bmatrix}\n",
        "-0.75578934 \\\\\n",
        "0.52065737 \\\\\n",
        "-0.39711255\n",
        "\\end{bmatrix}\n",
        "$$\n",
        "\n"
      ],
      "metadata": {
        "id": "5rRJ3_czxHaY"
      }
    },
    {
      "cell_type": "markdown",
      "source": [
        "### Question 3\n",
        "Given a function definition , implement it using Numpy and apply it on a list and perform operations"
      ],
      "metadata": {
        "id": "JhefayD3ciCG"
      }
    },
    {
      "cell_type": "markdown",
      "source": [
        "Create the input list to perform operations on"
      ],
      "metadata": {
        "id": "W86y1Xk1oljh"
      }
    },
    {
      "cell_type": "code",
      "source": [
        "input_list = [-7, -5.2, -1, -1.5, 0.3]"
      ],
      "metadata": {
        "id": "7jblD3HbokDg"
      },
      "execution_count": null,
      "outputs": []
    },
    {
      "cell_type": "markdown",
      "source": [
        "Print the list"
      ],
      "metadata": {
        "id": "jqTHOXEoqwIi"
      }
    },
    {
      "cell_type": "code",
      "source": [
        "print(\"Original list:\", input_list)"
      ],
      "metadata": {
        "id": "tLTRhfHDqzX_"
      },
      "execution_count": null,
      "outputs": []
    },
    {
      "cell_type": "markdown",
      "source": [
        "Use Numpy to define the function:\n",
        "$$ f(x) = \\frac{1}{1 + e^{-x}} $$\n",
        "Then apply this function to all elements of the input list and then sum the elements of the new list\n"
      ],
      "metadata": {
        "id": "xFUwECUnoscU"
      }
    },
    {
      "cell_type": "code",
      "source": [
        "# YOUR CODE STARTS HERE\n",
        "\n",
        "def function(x): # Define the function\n",
        "    return _____\n",
        "\n",
        "modified_list = ____ # Apply function to list\n",
        "\n",
        "sum_modified = ____ # Step 4: Sum the values of modified list\n",
        "\n",
        "# YOUR CODE ENDS HERE"
      ],
      "metadata": {
        "id": "LQw-t_oWekRi"
      },
      "execution_count": null,
      "outputs": []
    },
    {
      "cell_type": "markdown",
      "source": [
        "Print the modified list"
      ],
      "metadata": {
        "id": "a3I03nW7rCPi"
      }
    },
    {
      "cell_type": "code",
      "source": [
        "print(\"Sigmoided list:\", modified_list)"
      ],
      "metadata": {
        "id": "IKEBrN9Oq3bq"
      },
      "execution_count": null,
      "outputs": []
    },
    {
      "cell_type": "markdown",
      "source": [
        "Print sum of modified list"
      ],
      "metadata": {
        "id": "qSH_VBEvrCjC"
      }
    },
    {
      "cell_type": "code",
      "source": [
        "print(\"Sum of sigmoided values:\", sum_modified)"
      ],
      "metadata": {
        "id": "rsFd596ZqSZu"
      },
      "execution_count": null,
      "outputs": []
    },
    {
      "cell_type": "markdown",
      "source": [
        "Q3. Which of the following is the sum of the elements in the modfied list obtained after applying the function?\n",
        "\n",
        "A. 1.03\n",
        "\n",
        "B. 1.00\n",
        "\n",
        "C. 1.50\n",
        "\n",
        "D. 3.02\n"
      ],
      "metadata": {
        "id": "ellyBMTmyqe0"
      }
    },
    {
      "cell_type": "markdown",
      "source": [
        "### Question 4\n",
        "\n",
        "---\n",
        "\n",
        "\n",
        "Given a RGB image **'golden_retriever.jpg'**, convert the image into GBR image by swapping the channels."
      ],
      "metadata": {
        "id": "D3YOKvvHzOAJ"
      }
    },
    {
      "cell_type": "markdown",
      "source": [
        "\n",
        "Read the image **golden_retriever.jpg** using skimage.io.imread().  "
      ],
      "metadata": {
        "id": "XgW1ipJ_zXgB"
      }
    },
    {
      "cell_type": "code",
      "source": [
        "img1 = io.imread('golden_retriever.jpg')"
      ],
      "metadata": {
        "id": "zB5JjB5mzF14"
      },
      "execution_count": null,
      "outputs": []
    },
    {
      "cell_type": "markdown",
      "source": [
        "Print the shape of the image."
      ],
      "metadata": {
        "id": "zRXuTqO6z8Aa"
      }
    },
    {
      "cell_type": "code",
      "source": [
        "img1.shape"
      ],
      "metadata": {
        "id": "SkHDzM1Z0BbX"
      },
      "execution_count": null,
      "outputs": []
    },
    {
      "cell_type": "markdown",
      "source": [
        "Slice each of the R,G and B channels into repective variables and stack the channels as GBR and store it in variable img_new"
      ],
      "metadata": {
        "id": "yxpbh0rC0H6c"
      }
    },
    {
      "cell_type": "code",
      "source": [
        "# YOUR CODE STARTS HERE\n",
        "\n",
        "r_img = ____\n",
        "g_img = ____\n",
        "b_img = ____\n",
        "img_new = ____\n",
        "img_new.shape\n",
        "\n",
        "# YOUR CODE ENDS HERE"
      ],
      "metadata": {
        "id": "kL7WRI1I0IgN"
      },
      "execution_count": null,
      "outputs": []
    },
    {
      "cell_type": "markdown",
      "source": [
        "Plot the original RGB image"
      ],
      "metadata": {
        "id": "xrgAfhVN0M9X"
      }
    },
    {
      "cell_type": "code",
      "source": [
        "plt.imshow(img1)"
      ],
      "metadata": {
        "id": "9-zSh1XL0O4C"
      },
      "execution_count": null,
      "outputs": []
    },
    {
      "cell_type": "markdown",
      "source": [
        "Plot the GBR image"
      ],
      "metadata": {
        "id": "PfMh9C420SMp"
      }
    },
    {
      "cell_type": "code",
      "source": [
        "plt.imshow(img_new)"
      ],
      "metadata": {
        "id": "NxBQXnoD0ULK"
      },
      "execution_count": null,
      "outputs": []
    },
    {
      "cell_type": "markdown",
      "source": [
        "Q4. which of the following is the GBR representation of the RGB image\n",
        "‘golden retriever.jpg’ (Refer the mcq page for options)\n",
        "\n"
      ],
      "metadata": {
        "id": "9H1rVSbNma5o"
      }
    },
    {
      "cell_type": "markdown",
      "source": [
        "### Question 5\n",
        "\n",
        "---\n",
        "Apply a 5x5 mean filter on the human_mitosis image provided by skimage.data . What is the dimension of the output image after applying the 5x5 filter."
      ],
      "metadata": {
        "id": "K2p51IIB6FDv"
      }
    },
    {
      "cell_type": "markdown",
      "source": [
        "Read the human_mitosis image from skimage.data"
      ],
      "metadata": {
        "id": "acM6L9HX6KzV"
      }
    },
    {
      "cell_type": "code",
      "source": [
        "img2 = skimage.data.human_mitosis()"
      ],
      "metadata": {
        "id": "0ydSo50T6H5o"
      },
      "execution_count": null,
      "outputs": []
    },
    {
      "cell_type": "markdown",
      "source": [
        "Print the shape of the image"
      ],
      "metadata": {
        "id": "V8yfYGtL6Qcn"
      }
    },
    {
      "cell_type": "code",
      "source": [
        "img2.shape"
      ],
      "metadata": {
        "id": "1dlzvW-H6Nfm"
      },
      "execution_count": null,
      "outputs": []
    },
    {
      "cell_type": "markdown",
      "source": [
        "Plot the image"
      ],
      "metadata": {
        "id": "QQ0B8Cus6ViT"
      }
    },
    {
      "cell_type": "code",
      "source": [
        "plt.imshow(img2,cmap='gray')"
      ],
      "metadata": {
        "id": "vpKMi-iY6S5U"
      },
      "execution_count": null,
      "outputs": []
    },
    {
      "cell_type": "markdown",
      "source": [
        "Apply a mean filter of with a filter_size of 5x5 on img2."
      ],
      "metadata": {
        "id": "vquGfVJ16b0H"
      }
    },
    {
      "cell_type": "code",
      "source": [
        "# YOUR CODE STARTS HERE\n",
        "\n",
        "____\n",
        "\n",
        "# YOUR CODE ENDS HERE"
      ],
      "metadata": {
        "id": "mH6itfif6cNk"
      },
      "execution_count": null,
      "outputs": []
    },
    {
      "cell_type": "markdown",
      "source": [
        "Print the shape of output image"
      ],
      "metadata": {
        "id": "azFLi9yQ6ckC"
      }
    },
    {
      "cell_type": "code",
      "source": [
        "# YOUR CODE STARTS HERE\n",
        "\n",
        "____\n",
        "\n",
        "# YOUR CODE ENDS HERE"
      ],
      "metadata": {
        "id": "iKA86PT_6c7L"
      },
      "execution_count": null,
      "outputs": []
    },
    {
      "cell_type": "markdown",
      "source": [
        "Q5. The shape of the human_mitosis image after applying a $5 \\times 5$ mean filter is:\n",
        "\n",
        "A. (512,512)\n",
        "\n",
        "B. (510,510)\n",
        "\n",
        "C. (508,508)\n",
        "\n",
        "D. (507,507)"
      ],
      "metadata": {
        "id": "ZIdMcwYKm5Sv"
      }
    },
    {
      "cell_type": "markdown",
      "source": [
        "### Question 6\n",
        "For the output image obtained in Question 2, find the median value of the image before and after applying the mean filter?"
      ],
      "metadata": {
        "id": "mqAHXVJn6wVE"
      }
    },
    {
      "cell_type": "markdown",
      "source": [
        "Print the median value of the human_mitosis image before applying the mean filter"
      ],
      "metadata": {
        "id": "_MO76I-X6zX3"
      }
    },
    {
      "cell_type": "code",
      "source": [
        "# YOUR CODE STARTS HERE\n",
        "\n",
        "____\n",
        "\n",
        "# YOUR CODE ENDS HERE"
      ],
      "metadata": {
        "id": "B1kJfMIn6ydw"
      },
      "execution_count": null,
      "outputs": []
    },
    {
      "cell_type": "markdown",
      "source": [
        "Print the median value of the human_mitosis image after applying the mean filter"
      ],
      "metadata": {
        "id": "kIkMqT3F69VY"
      }
    },
    {
      "cell_type": "code",
      "source": [
        "# YOUR CODE STARTS HERE\n",
        "\n",
        "____\n",
        "\n",
        "# YOUR CODE ENDS HERE"
      ],
      "metadata": {
        "id": "0splqZr066ej"
      },
      "execution_count": null,
      "outputs": []
    },
    {
      "cell_type": "markdown",
      "source": [
        "The median value of the human_mitosis image  before and after applying the $5 \\times 5$ mean filter is ____ and ____ respectively."
      ],
      "metadata": {
        "id": "4he7tFTTnUwd"
      }
    }
  ]
}